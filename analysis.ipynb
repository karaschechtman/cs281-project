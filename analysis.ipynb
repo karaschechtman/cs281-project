{
 "cells": [
  {
   "cell_type": "code",
   "execution_count": 1,
   "id": "417e1f8e",
   "metadata": {},
   "outputs": [],
   "source": [
    "import altair as alt\n",
    "import pandas as pd\n",
    "\n",
    "from fairness_utils import *\n",
    "from latextable import draw_latex\n",
    "from texttable import Texttable\n",
    "from scorer import *\n",
    "\n",
    "FILENAME = 'data/compas_predictions.csv'\n",
    "PREDICTOR_TYPES = ['unconstrained','calibrated','thresholdless_EO']\n",
    "RACES = ['all','African-American','Caucasian']"
   ]
  },
  {
   "cell_type": "code",
   "execution_count": 2,
   "id": "9c9d3131",
   "metadata": {},
   "outputs": [],
   "source": [
    "df = pd.read_csv(FILENAME)"
   ]
  },
  {
   "cell_type": "code",
   "execution_count": 3,
   "id": "5d42bc56",
   "metadata": {},
   "outputs": [
    {
     "name": "stdout",
     "output_type": "stream",
     "text": [
      "Predictor   Race        Brier       Log Loss   Calibrati   Separatio   Separatio\n",
      "                        Score                  on Gap      n Gap       n Gap    \n",
      "                                                           (Negative   (Positive\n",
      "                                                           Class)      Class)   \n",
      "unconstra   all         0.210       0.986      nan         nan         nan      \n",
      "ined                                                                            \n",
      "unconstra   African-    0.211       0.985      nan         0.040       0.034    \n",
      "ined        American                                                            \n",
      "unconstra   Caucasian   0.207       0.989      nan         -0.042      -0.071   \n",
      "ined                                                                            \n",
      "calibrate   all         0.210       0.974      nan         nan         nan      \n",
      "d                                                                               \n",
      "calibrate   African-    0.212       0.972      nan         0.039       0.034    \n",
      "d           American                                                            \n",
      "calibrate   Caucasian   0.207       0.978      nan         -0.042      -0.069   \n",
      "d                                                                               \n",
      "threshold   all         0.215       0.949      nan         nan         nan      \n",
      "less_EO                                                                         \n",
      "threshold   African-    0.220       0.940      nan         0.000       -0.000   \n",
      "less_EO     American                                                            \n",
      "threshold   Caucasian   0.208       0.961      nan         -0.000      0.000    \n",
      "less_EO                                                                         \n"
     ]
    }
   ],
   "source": [
    "# Fairness and accuracy criteria\n",
    "table = Texttable()\n",
    "table.set_deco(Texttable.HEADER)\n",
    "table.set_cols_dtype([\n",
    "    't',\n",
    "    't',\n",
    "    'f',\n",
    "    'f',\n",
    "    'f',\n",
    "    'f',\n",
    "    'f',\n",
    "])\n",
    "table.add_row(['Predictor','Race','Brier Score','Log Loss','Calibration Gap','Separation Gap (Negative Class)','Separation Gap (Positive Class)'])\n",
    "brier_accuracy_scorer = WeightedBrierScorer()\n",
    "log_loss_scorer = WeightedLogScorer()\n",
    "for predictor in PREDICTOR_TYPES:\n",
    "    brier_scores = brier_accuracy_scorer.score_many(df['two_year_recid'],df[predictor],df['race'])\n",
    "    log_losses = log_loss_scorer.score_many(df['two_year_recid'],df[predictor],df['race'])\n",
    "    calibration_gaps = get_sufficiency_gap(df['two_year_recid'],df[predictor],df['race'])\n",
    "    sep_neg = get_separation_gap(df['two_year_recid'],df[predictor],df['race'],0)\n",
    "    sep_pos = get_separation_gap(df['two_year_recid'],df[predictor],df['race'],1)\n",
    "    for race in RACES:\n",
    "        if race != 'all':\n",
    "            table.add_row([predictor,race,brier_scores[race],log_losses[race],calibration_gaps[race],\n",
    "                       sep_neg[race],sep_pos[race]])\n",
    "        else:\n",
    "            table.add_row([predictor,race,brier_scores[race],log_losses[race],float('nan'),float('nan'),float('nan')])\n",
    "print(table.draw())"
   ]
  },
  {
   "cell_type": "code",
   "execution_count": 4,
   "id": "07874b62",
   "metadata": {},
   "outputs": [
    {
     "data": {
      "text/plain": [
       "'\\\\begin{table}\\n\\t\\\\begin{center}\\n\\t\\t\\\\begin{tabular}{lllllll}\\n\\t\\t\\t \\\\\\\\\\n\\t\\t\\t\\\\hline\\n\\t\\t\\tPredictor & Race & Brier Score & Log Loss & Calibration Gap & Separation Gap (Negative Class) & Separation Gap (Positive Class) \\\\\\\\\\n\\t\\t\\tunconstrained & all & 0.210 & 0.986 & nan & nan & nan \\\\\\\\\\n\\t\\t\\tunconstrained & African-American & 0.211 & 0.985 & nan & 0.040 & 0.034 \\\\\\\\\\n\\t\\t\\tunconstrained & Caucasian & 0.207 & 0.989 & nan & -0.042 & -0.071 \\\\\\\\\\n\\t\\t\\tcalibrated & all & 0.210 & 0.974 & nan & nan & nan \\\\\\\\\\n\\t\\t\\tcalibrated & African-American & 0.212 & 0.972 & nan & 0.039 & 0.034 \\\\\\\\\\n\\t\\t\\tcalibrated & Caucasian & 0.207 & 0.978 & nan & -0.042 & -0.069 \\\\\\\\\\n\\t\\t\\tthresholdless_EO & all & 0.215 & 0.949 & nan & nan & nan \\\\\\\\\\n\\t\\t\\tthresholdless_EO & African-American & 0.220 & 0.940 & nan & 0.000 & -0.000 \\\\\\\\\\n\\t\\t\\tthresholdless_EO & Caucasian & 0.208 & 0.961 & nan & -0.000 & 0.000 \\\\\\\\\\n\\t\\t\\\\end{tabular}\\n\\t\\\\end{center}\\n\\\\end{table}'"
      ]
     },
     "execution_count": 4,
     "metadata": {},
     "output_type": "execute_result"
    }
   ],
   "source": [
    "# for latex :~) \n",
    "draw_latex(table)"
   ]
  },
  {
   "cell_type": "code",
   "execution_count": 5,
   "id": "caeb5acf",
   "metadata": {},
   "outputs": [],
   "source": [
    "# Heatmap of scores for different Brier, log loss, and Beta weights\n",
    "# https://altair-viz.github.io/gallery/simple_heatmap.html\n"
   ]
  }
 ],
 "metadata": {
  "kernelspec": {
   "display_name": "Python 3 (ipykernel)",
   "language": "python",
   "name": "python3"
  },
  "language_info": {
   "codemirror_mode": {
    "name": "ipython",
    "version": 3
   },
   "file_extension": ".py",
   "mimetype": "text/x-python",
   "name": "python",
   "nbconvert_exporter": "python",
   "pygments_lexer": "ipython3",
   "version": "3.10.11"
  }
 },
 "nbformat": 4,
 "nbformat_minor": 5
}
